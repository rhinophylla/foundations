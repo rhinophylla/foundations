{
 "cells": [
  {
   "cell_type": "markdown",
   "metadata": {},
   "source": [
    "## Police Killings\n",
    "\n",
    "The Guardian launched “The Counted,” an impressive interactive database of Americans killed by police since the start of the year. It started in 2015, but you can check the recent stats for 2016. We will explore the data by race, income and state."
   ]
  },
  {
   "cell_type": "markdown",
   "metadata": {},
   "source": [
    "### Assignment\n",
    "\n",
    "- Import the data and examine the head and columns\n",
    "- Get the total counts for each racial grouping\n",
    "- Find the relative % for each racial grouping\n",
    "- How do the killings compare with the overall US breakdown of population by race?"
   ]
  },
  {
   "cell_type": "code",
   "execution_count": 1,
   "metadata": {},
   "outputs": [],
   "source": [
    "% matplotlib inline"
   ]
  },
  {
   "cell_type": "code",
   "execution_count": 2,
   "metadata": {},
   "outputs": [],
   "source": [
    "import numpy as np\n",
    "import matplotlib as plt\n",
    "import pandas as pd"
   ]
  },
  {
   "cell_type": "code",
   "execution_count": 3,
   "metadata": {},
   "outputs": [
    {
     "name": "stdout",
     "output_type": "stream",
     "text": [
      "                 name age gender    raceethnicity     month  day  year  \\\n",
      "0  A'donte Washington  16   Male            Black  February   23  2015   \n",
      "1      Aaron Rutledge  27   Male            White     April    2  2015   \n",
      "2         Aaron Siler  26   Male            White     March   14  2015   \n",
      "3        Aaron Valdez  25   Male  Hispanic/Latino     March   11  2015   \n",
      "4        Adam Jovicic  29   Male            White     March   19  2015   \n",
      "\n",
      "            streetaddress          city state    ...     share_hispanic  \\\n",
      "0            Clearview Ln     Millbrook    AL    ...                5.6   \n",
      "1  300 block Iris Park Dr     Pineville    LA    ...                0.5   \n",
      "2    22nd Ave and 56th St       Kenosha    WI    ...               16.8   \n",
      "3       3000 Seminole Ave    South Gate    CA    ...               98.8   \n",
      "4          364 Hiwood Ave  Munroe Falls    OH    ...                1.7   \n",
      "\n",
      "   p_income  h_income  county_income  comp_income  county_bucket  nat_bucket  \\\n",
      "0     28375   51367.0          54766     0.937936            3.0         3.0   \n",
      "1     14678   27972.0          40930     0.683411            2.0         1.0   \n",
      "2     25286   45365.0          54930     0.825869            2.0         3.0   \n",
      "3     17194   48295.0          55909     0.863814            3.0         3.0   \n",
      "4     33954   68785.0          49669     1.384868            5.0         4.0   \n",
      "\n",
      "    pov     urate   college  \n",
      "0  14.1  0.097686  0.168510  \n",
      "1  28.8  0.065724  0.111402  \n",
      "2  14.6  0.166293  0.147312  \n",
      "3  11.7  0.124827  0.050133  \n",
      "4   1.9  0.063550  0.403954  \n",
      "\n",
      "[5 rows x 34 columns]\n",
      "Index(['name', 'age', 'gender', 'raceethnicity', 'month', 'day', 'year',\n",
      "       'streetaddress', 'city', 'state', 'latitude', 'longitude', 'state_fp',\n",
      "       'county_fp', 'tract_ce', 'geo_id', 'county_id', 'namelsad',\n",
      "       'lawenforcementagency', 'cause', 'armed', 'pop', 'share_white',\n",
      "       'share_black', 'share_hispanic', 'p_income', 'h_income',\n",
      "       'county_income', 'comp_income', 'county_bucket', 'nat_bucket', 'pov',\n",
      "       'urate', 'college'],\n",
      "      dtype='object')\n"
     ]
    }
   ],
   "source": [
    "pk = pd.read_csv(\"police_killings.csv\", encoding = \"ISO-8859-1\")\n",
    "print(pk.head())\n",
    "print(pk.columns)"
   ]
  },
  {
   "cell_type": "code",
   "execution_count": 4,
   "metadata": {},
   "outputs": [
    {
     "name": "stdout",
     "output_type": "stream",
     "text": [
      "White                     236\n",
      "Black                     135\n",
      "Hispanic/Latino            67\n",
      "Unknown                    15\n",
      "Asian/Pacific Islander     10\n",
      "Native American             4\n",
      "Name: raceethnicity, dtype: int64\n"
     ]
    }
   ],
   "source": [
    "# total counts for each racial grouping\n",
    "vc = pk[\"raceethnicity\"].value_counts()\n",
    "print(vc)"
   ]
  },
  {
   "cell_type": "code",
   "execution_count": 5,
   "metadata": {},
   "outputs": [
    {
     "name": "stdout",
     "output_type": "stream",
     "text": [
      "White 50.53533190578159\n",
      "Black 28.90792291220557\n",
      "Hispanic/Latino 14.346895074946467\n",
      "Unknown 3.2119914346895073\n",
      "Asian/Pacific Islander 2.141327623126338\n",
      "Native American 0.8565310492505354\n"
     ]
    }
   ],
   "source": [
    "# relative percentage for each racial grouping\n",
    "tot_rec = pk[\"raceethnicity\"].count()\n",
    "race_ls = list(vc.index)\n",
    "per_kbp = []\n",
    "for i in range(6):\n",
    "    per_kbp.append((vc[i]/tot_rec)*100)\n",
    "    print(race_ls[i], (vc[i]/tot_rec)*100)    "
   ]
  },
  {
   "cell_type": "code",
   "execution_count": 6,
   "metadata": {},
   "outputs": [
    {
     "name": "stdout",
     "output_type": "stream",
     "text": [
      "                        % killed by police  % of total US pop\n",
      "White                            50.535332               60.7\n",
      "Black                            28.907923               13.4\n",
      "Hispanic/Latino                  14.346895               18.1\n",
      "Unknown                           3.211991                0.0\n",
      "Asian/Pacific Islander            2.141328                0.2\n",
      "Native American                   0.856531                1.3\n",
      "\n",
      "US population percentages taken from https://www.census.gov/quickfacts/fact/table/US/PST045217\n"
     ]
    }
   ],
   "source": [
    "# How do the killings compare with the overall US breakdown of population by race?  Data \n",
    "dic_per = {\"% killed by police\": per_kbp, \"% of total US pop\": pd.Series([60.7, 13.4, 18.1, 0, 0.2, 1.3], index = race_ls)}\n",
    "df = pd.DataFrame(dic_per)\n",
    "print(df)\n",
    "print()\n",
    "print(\"US population percentages taken from https://www.census.gov/quickfacts/fact/table/US/PST045217\")\n"
   ]
  },
  {
   "cell_type": "markdown",
   "metadata": {},
   "source": [
    "## How do the killings compare with the overall US breakdown of population by race?  Interpretation\n",
    "\n",
    "The percentage of black people killed by police is twice that of their representation in the US population, while the percentage of Asian/Pacifica Islanders killed by police is 10x.  The percentage of Native Americans, Whites, and Hispanic/Latinos killed by police is below their repreentation in the general US population.   "
   ]
  },
  {
   "cell_type": "markdown",
   "metadata": {},
   "source": [
    "### Assignment\n",
    "\n",
    "- Graph the killings by race using a bar chart. Make sure to label the graph and axes\n",
    "- Graph the killings by \"p_income\" using a histogram with different bin amounts (remember to remove any \"-\" values)\n",
    "- Calculate the median \"p_income\""
   ]
  },
  {
   "cell_type": "code",
   "execution_count": 7,
   "metadata": {},
   "outputs": [
    {
     "data": {
      "text/plain": [
       "Text(0.5,0,'Number of people killed')"
      ]
     },
     "execution_count": 7,
     "metadata": {},
     "output_type": "execute_result"
    },
    {
     "data": {
      "image/png": "[encoded data removed]",
      "text/plain": [
       "<Figure size 432x288 with 1 Axes>"
      ]
     },
     "metadata": {},
     "output_type": "display_data"
    }
   ],
   "source": [
    "#Graph the killings by race using a bar chart. Make sure to label the graph and axes\n",
    "\n",
    "ax = vc.plot(kind=\"bar\", title=\"2016 Police Killings Group by Race\")\n",
    "ax.set_xlabel(\"Race/Ethnicity\")\n",
    "ax.set_xlabel(\"Number of people killed\")"
   ]
  },
  {
   "cell_type": "code",
   "execution_count": 8,
   "metadata": {},
   "outputs": [
    {
     "data": {
      "text/plain": [
       "Text(0.5,0,'Annual Income ($)')"
      ]
     },
     "execution_count": 8,
     "metadata": {},
     "output_type": "execute_result"
    },
    {
     "data": {
      "image/png": "[encoded data removed]",
      "text/plain": [
       "<Figure size 576x576 with 1 Axes>"
      ]
     },
     "metadata": {},
     "output_type": "display_data"
    }
   ],
   "source": [
    "#Graph the killings by \"p_income\" using a histogram with different bin amounts (remember to remove any \"-\" values)\n",
    "missing = np.where(pk[\"p_income\"]==\"-\")\n",
    "clean_pk = pk.drop(pk.index[missing])\n",
    "p_income = pd.to_numeric(clean_pk[\"p_income\"])\n",
    "ax = p_income.plot(kind=\"hist\", bins=20, figsize=(8,8), title=\"Histogram of the yearly income of individuals killed by police\")\n",
    "ax.set_xlabel(\"Annual Income ($)\")"
   ]
  },
  {
   "cell_type": "code",
   "execution_count": 9,
   "metadata": {},
   "outputs": [
    {
     "name": "stdout",
     "output_type": "stream",
     "text": [
      "Median income:  $ 22348.0\n"
     ]
    }
   ],
   "source": [
    "#Calculate the median \"p_income\"\n",
    "print(\"Median income:  $\", p_income.median())"
   ]
  },
  {
   "cell_type": "markdown",
   "metadata": {},
   "source": [
    "### Assignment\n",
    "\n",
    "- Find the total killings per each state\n",
    "- Create a new dataframe and remove any \"-\" from the following columns \"share_white\", \"share_black\" and \"share_hispanic\" \n",
    "- Convert the values in those columns to float types\n",
    "- Find the mean of 'pop', 'county_income' and those 3 columns for the following subsets\n",
    "    \n",
    "    lowest_states = [\"CT\", \"PA\", \"IA\", \"NY\", \"MA\", \"NH\", \"ME\", \"IL\", \"OH\", \"WI\"]\n",
    "    \n",
    "    highest_states = [\"OK\", \"AZ\", \"NE\", \"HI\", \"AK\", \"ID\", \"NM\", \"LA\", \"CO\", \"DE\"]"
   ]
  },
  {
   "cell_type": "code",
   "execution_count": 10,
   "metadata": {},
   "outputs": [
    {
     "data": {
      "text/plain": [
       "CA    74\n",
       "TX    46\n",
       "FL    29\n",
       "AZ    25\n",
       "OK    22\n",
       "GA    16\n",
       "NY    14\n",
       "CO    12\n",
       "NJ    11\n",
       "WA    11\n",
       "IL    11\n",
       "LA    10\n",
       "MD    10\n",
       "NC    10\n",
       "MO    10\n",
       "OH     9\n",
       "VA     9\n",
       "SC     9\n",
       "MI     9\n",
       "AL     8\n",
       "IN     8\n",
       "OR     8\n",
       "KY     7\n",
       "PA     7\n",
       "MS     6\n",
       "KS     6\n",
       "MN     6\n",
       "NE     6\n",
       "TN     6\n",
       "MA     5\n",
       "NM     5\n",
       "UT     5\n",
       "WI     5\n",
       "HI     4\n",
       "ID     4\n",
       "AR     4\n",
       "NV     3\n",
       "MT     2\n",
       "DE     2\n",
       "IA     2\n",
       "AK     2\n",
       "WV     2\n",
       "DC     1\n",
       "ME     1\n",
       "NH     1\n",
       "CT     1\n",
       "WY     1\n",
       "Name: state, dtype: int64"
      ]
     },
     "execution_count": 10,
     "metadata": {},
     "output_type": "execute_result"
    }
   ],
   "source": [
    "#Find the total killings per each state\n",
    "clean_pk[\"state\"].value_counts()"
   ]
  },
  {
   "cell_type": "code",
   "execution_count": 11,
   "metadata": {},
   "outputs": [],
   "source": [
    "#Create a new dataframe and remove any \"-\" from the following columns \"share_white\", \"share_black\" and \"share_hispanic\"\n",
    "#Convert the values in those columns to float types\n",
    "clean_pk[\"share_white\"] = clean_pk[\"share_white\"].astype(float)\n",
    "clean_pk[\"share_black\"] = clean_pk[\"share_black\"].astype(float)\n",
    "clean_pk[\"share_hispanic\"] = clean_pk[\"share_hispanic\"].astype(float)"
   ]
  },
  {
   "cell_type": "code",
   "execution_count": 22,
   "metadata": {},
   "outputs": [
    {
     "data": {
      "text/html": [
       "<div>\n",
       "<style scoped>\n",
       "    .dataframe tbody tr th:only-of-type {\n",
       "        vertical-align: middle;\n",
       "    }\n",
       "\n",
       "    .dataframe tbody tr th {\n",
       "        vertical-align: top;\n",
       "    }\n",
       "\n",
       "    .dataframe thead th {\n",
       "        text-align: right;\n",
       "    }\n",
       "</style>\n",
       "<table border=\"1\" class=\"dataframe\">\n",
       "  <thead>\n",
       "    <tr style=\"text-align: right;\">\n",
       "      <th>state</th>\n",
       "      <th>CT</th>\n",
       "      <th>IA</th>\n",
       "      <th>IL</th>\n",
       "      <th>MA</th>\n",
       "      <th>ME</th>\n",
       "      <th>NH</th>\n",
       "      <th>NY</th>\n",
       "      <th>OH</th>\n",
       "      <th>PA</th>\n",
       "      <th>WI</th>\n",
       "    </tr>\n",
       "  </thead>\n",
       "  <tbody>\n",
       "    <tr>\n",
       "      <th>county_income</th>\n",
       "      <td>61996.0</td>\n",
       "      <td>50734.50</td>\n",
       "      <td>55104.363636</td>\n",
       "      <td>69259.00</td>\n",
       "      <td>37855.0</td>\n",
       "      <td>77348.0</td>\n",
       "      <td>55594.428571</td>\n",
       "      <td>46059.444444</td>\n",
       "      <td>54253.714286</td>\n",
       "      <td>53356.60</td>\n",
       "    </tr>\n",
       "    <tr>\n",
       "      <th>pop</th>\n",
       "      <td>4066.0</td>\n",
       "      <td>4076.00</td>\n",
       "      <td>3379.818182</td>\n",
       "      <td>4398.40</td>\n",
       "      <td>3045.0</td>\n",
       "      <td>4521.0</td>\n",
       "      <td>4865.714286</td>\n",
       "      <td>3741.666667</td>\n",
       "      <td>4400.285714</td>\n",
       "      <td>4748.40</td>\n",
       "    </tr>\n",
       "    <tr>\n",
       "      <th>share_black</th>\n",
       "      <td>2.1</td>\n",
       "      <td>14.05</td>\n",
       "      <td>30.354545</td>\n",
       "      <td>16.04</td>\n",
       "      <td>0.3</td>\n",
       "      <td>1.8</td>\n",
       "      <td>25.842857</td>\n",
       "      <td>27.322222</td>\n",
       "      <td>16.157143</td>\n",
       "      <td>4.64</td>\n",
       "    </tr>\n",
       "    <tr>\n",
       "      <th>share_hispanic</th>\n",
       "      <td>8.8</td>\n",
       "      <td>19.50</td>\n",
       "      <td>15.154545</td>\n",
       "      <td>9.08</td>\n",
       "      <td>0.6</td>\n",
       "      <td>1.9</td>\n",
       "      <td>18.207143</td>\n",
       "      <td>1.900000</td>\n",
       "      <td>18.671429</td>\n",
       "      <td>12.00</td>\n",
       "    </tr>\n",
       "    <tr>\n",
       "      <th>share_white</th>\n",
       "      <td>76.8</td>\n",
       "      <td>60.90</td>\n",
       "      <td>50.209091</td>\n",
       "      <td>72.10</td>\n",
       "      <td>97.2</td>\n",
       "      <td>94.0</td>\n",
       "      <td>47.571429</td>\n",
       "      <td>67.177778</td>\n",
       "      <td>61.557143</td>\n",
       "      <td>78.08</td>\n",
       "    </tr>\n",
       "  </tbody>\n",
       "</table>\n",
       "</div>"
      ],
      "text/plain": [
       "state                CT        IA            IL        MA       ME       NH  \\\n",
       "county_income   61996.0  50734.50  55104.363636  69259.00  37855.0  77348.0   \n",
       "pop              4066.0   4076.00   3379.818182   4398.40   3045.0   4521.0   \n",
       "share_black         2.1     14.05     30.354545     16.04      0.3      1.8   \n",
       "share_hispanic      8.8     19.50     15.154545      9.08      0.6      1.9   \n",
       "share_white        76.8     60.90     50.209091     72.10     97.2     94.0   \n",
       "\n",
       "state                     NY            OH            PA        WI  \n",
       "county_income   55594.428571  46059.444444  54253.714286  53356.60  \n",
       "pop              4865.714286   3741.666667   4400.285714   4748.40  \n",
       "share_black        25.842857     27.322222     16.157143      4.64  \n",
       "share_hispanic     18.207143      1.900000     18.671429     12.00  \n",
       "share_white        47.571429     67.177778     61.557143     78.08  "
      ]
     },
     "execution_count": 22,
     "metadata": {},
     "output_type": "execute_result"
    }
   ],
   "source": [
    "#Find the mean of 'pop', 'county_income' and those 3 columns for the following subsets\n",
    "lowest_states = [\"CT\", \"PA\", \"IA\", \"NY\", \"MA\", \"NH\", \"ME\", \"IL\", \"OH\", \"WI\"]\n",
    "highest_states = [\"OK\", \"AZ\", \"NE\", \"HI\", \"AK\", \"ID\", \"NM\", \"LA\", \"CO\", \"DE\"]\n",
    "col_of_i = [\"state\", \"pop\", \"county_income\", \"share_white\", \"share_black\", \"share_hispanic\"]\n",
    "\n",
    "low_pk = clean_pk.loc[clean_pk[\"state\"].isin(lowest_states)]\n",
    "\n",
    "\n",
    "high_pk = clean_pk.loc[clean_pk[\"state\"].isin(highest_states)]\n",
    "\n",
    "low_pk_col = low_pk[col_of_i]\n",
    "\n",
    "high_pk_col = high_pk[col_of_i]\n",
    "\n",
    "low_pk_col.pivot_table(columns=\"state\", aggfunc=np.mean)\n"
   ]
  },
  {
   "cell_type": "code",
   "execution_count": 16,
   "metadata": {},
   "outputs": [
    {
     "data": {
      "text/html": [
       "<div>\n",
       "<style scoped>\n",
       "    .dataframe tbody tr th:only-of-type {\n",
       "        vertical-align: middle;\n",
       "    }\n",
       "\n",
       "    .dataframe tbody tr th {\n",
       "        vertical-align: top;\n",
       "    }\n",
       "\n",
       "    .dataframe thead th {\n",
       "        text-align: right;\n",
       "    }\n",
       "</style>\n",
       "<table border=\"1\" class=\"dataframe\">\n",
       "  <thead>\n",
       "    <tr style=\"text-align: right;\">\n",
       "      <th>state</th>\n",
       "      <th>AK</th>\n",
       "      <th>AZ</th>\n",
       "      <th>CO</th>\n",
       "      <th>DE</th>\n",
       "      <th>HI</th>\n",
       "      <th>ID</th>\n",
       "      <th>LA</th>\n",
       "      <th>NE</th>\n",
       "      <th>NM</th>\n",
       "      <th>OK</th>\n",
       "    </tr>\n",
       "  </thead>\n",
       "  <tbody>\n",
       "    <tr>\n",
       "      <th>county_income</th>\n",
       "      <td>77454.00</td>\n",
       "      <td>48391.000</td>\n",
       "      <td>53060.500000</td>\n",
       "      <td>59843.00</td>\n",
       "      <td>64707.500</td>\n",
       "      <td>45349.250</td>\n",
       "      <td>42763.90</td>\n",
       "      <td>51607.333333</td>\n",
       "      <td>47309.40</td>\n",
       "      <td>42994.954545</td>\n",
       "    </tr>\n",
       "    <tr>\n",
       "      <th>pop</th>\n",
       "      <td>4176.00</td>\n",
       "      <td>4467.120</td>\n",
       "      <td>4103.250000</td>\n",
       "      <td>9020.50</td>\n",
       "      <td>3466.750</td>\n",
       "      <td>7426.250</td>\n",
       "      <td>2902.80</td>\n",
       "      <td>4034.666667</td>\n",
       "      <td>5273.20</td>\n",
       "      <td>3934.772727</td>\n",
       "    </tr>\n",
       "    <tr>\n",
       "      <th>share_black</th>\n",
       "      <td>11.40</td>\n",
       "      <td>3.652</td>\n",
       "      <td>8.333333</td>\n",
       "      <td>35.10</td>\n",
       "      <td>5.475</td>\n",
       "      <td>0.600</td>\n",
       "      <td>49.71</td>\n",
       "      <td>8.650000</td>\n",
       "      <td>0.98</td>\n",
       "      <td>9.022727</td>\n",
       "    </tr>\n",
       "    <tr>\n",
       "      <th>share_hispanic</th>\n",
       "      <td>11.90</td>\n",
       "      <td>34.444</td>\n",
       "      <td>30.883333</td>\n",
       "      <td>4.15</td>\n",
       "      <td>5.050</td>\n",
       "      <td>8.725</td>\n",
       "      <td>7.86</td>\n",
       "      <td>10.300000</td>\n",
       "      <td>39.02</td>\n",
       "      <td>11.336364</td>\n",
       "    </tr>\n",
       "    <tr>\n",
       "      <th>share_white</th>\n",
       "      <td>37.95</td>\n",
       "      <td>51.580</td>\n",
       "      <td>56.625000</td>\n",
       "      <td>52.25</td>\n",
       "      <td>33.800</td>\n",
       "      <td>85.575</td>\n",
       "      <td>38.59</td>\n",
       "      <td>75.800000</td>\n",
       "      <td>55.66</td>\n",
       "      <td>62.459091</td>\n",
       "    </tr>\n",
       "  </tbody>\n",
       "</table>\n",
       "</div>"
      ],
      "text/plain": [
       "state                 AK         AZ            CO        DE         HI  \\\n",
       "county_income   77454.00  48391.000  53060.500000  59843.00  64707.500   \n",
       "pop              4176.00   4467.120   4103.250000   9020.50   3466.750   \n",
       "share_black        11.40      3.652      8.333333     35.10      5.475   \n",
       "share_hispanic     11.90     34.444     30.883333      4.15      5.050   \n",
       "share_white        37.95     51.580     56.625000     52.25     33.800   \n",
       "\n",
       "state                  ID        LA            NE        NM            OK  \n",
       "county_income   45349.250  42763.90  51607.333333  47309.40  42994.954545  \n",
       "pop              7426.250   2902.80   4034.666667   5273.20   3934.772727  \n",
       "share_black         0.600     49.71      8.650000      0.98      9.022727  \n",
       "share_hispanic      8.725      7.86     10.300000     39.02     11.336364  \n",
       "share_white        85.575     38.59     75.800000     55.66     62.459091  "
      ]
     },
     "execution_count": 16,
     "metadata": {},
     "output_type": "execute_result"
    }
   ],
   "source": [
    "high_pk_col.pivot_table(columns=\"state\", aggfunc=np.mean)"
   ]
  },
  {
   "cell_type": "code",
   "execution_count": null,
   "metadata": {},
   "outputs": [],
   "source": []
  }
 ],
 "metadata": {
  "anaconda-cloud": {},
  "kernelspec": {
   "display_name": "Python 3",
   "language": "python",
   "name": "python3"
  },
  "language_info": {
   "codemirror_mode": {
    "name": "ipython",
    "version": 3
   },
   "file_extension": ".py",
   "mimetype": "text/x-python",
   "name": "python",
   "nbconvert_exporter": "python",
   "pygments_lexer": "ipython3",
   "version": "3.6.5"
  }
 },
 "nbformat": 4,
 "nbformat_minor": 1
}
