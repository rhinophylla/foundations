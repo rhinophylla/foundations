{
 "cells": [
  {
   "cell_type": "markdown",
   "metadata": {},
   "source": [
    "## US Gun Deaths Data Set\n",
    "\n",
    "[Original article by FiveThirtyEight about Guns](http://fivethirtyeight.com/features/gun-deaths/)\n",
    "\n",
    "The data set contains cleaned gun-death data from the CDC for 2012-2014."
   ]
  },
  {
   "cell_type": "markdown",
   "metadata": {},
   "source": [
    "### Assignment\n",
    "\n",
    "- Import the csv\n",
    "- Read it into a list\n",
    "- Preview the first 5 entries"
   ]
  },
  {
   "cell_type": "code",
   "execution_count": 1,
   "metadata": {},
   "outputs": [
    {
     "name": "stdout",
     "output_type": "stream",
     "text": [
      "[['', 'year', 'month', 'intent', 'police', 'sex', 'age', 'race', 'hispanic', 'place', 'education'], ['1', '2012', '01', 'Suicide', '0', 'M', '34', 'Asian/Pacific Islander', '100', 'Home', '4'], ['2', '2012', '01', 'Suicide', '0', 'F', '21', 'White', '100', 'Street', '3'], ['3', '2012', '01', 'Suicide', '0', 'M', '60', 'White', '100', 'Other specified', '4'], ['4', '2012', '02', 'Suicide', '0', 'M', '64', 'White', '100', 'Home', '4']]\n"
     ]
    }
   ],
   "source": [
    "# opens the guns.csv file and processes using csv.reader, converts the dataset into a list of lists, prints first\n",
    "# 5 entries\n",
    "\n",
    "import csv\n",
    "f = open(\"guns.csv\", \"r\")\n",
    "deaths = csv.reader(f)\n",
    "list_of_rows = []\n",
    "for row in deaths:\n",
    "    list_of_rows.append(row)\n",
    "print(list_of_rows[0:5])"
   ]
  },
  {
   "cell_type": "markdown",
   "metadata": {},
   "source": [
    "### Assignment\n",
    "\n",
    "- Remove the header row from the list of lists\n",
    "- Save it to a separate list"
   ]
  },
  {
   "cell_type": "code",
   "execution_count": 2,
   "metadata": {},
   "outputs": [
    {
     "name": "stdout",
     "output_type": "stream",
     "text": [
      "['', 'year', 'month', 'intent', 'police', 'sex', 'age', 'race', 'hispanic', 'place', 'education']\n"
     ]
    }
   ],
   "source": [
    "# removes header row from the list of lists and save it as a seperate list\n",
    "header_row = list_of_rows.pop(0)\n",
    "print(header_row)"
   ]
  },
  {
   "cell_type": "markdown",
   "metadata": {},
   "source": [
    "### Assignment\n",
    "\n",
    "- Count the number of gun deaths by year\n",
    "    - It may help to do a list comprehension to get the years\n",
    "    - Iterate over the years with a dictionary to keep count\n",
    "    \n",
    "    "
   ]
  },
  {
   "cell_type": "code",
   "execution_count": 3,
   "metadata": {},
   "outputs": [
    {
     "name": "stdout",
     "output_type": "stream",
     "text": [
      "defaultdict(<class 'int'>, {'2012': 33563, '2013': 33636, '2014': 33599})\n"
     ]
    }
   ],
   "source": [
    "# creates a dictionary that summerizes the number of gun deaths per year as reported in the dataset\n",
    "from collections import defaultdict\n",
    "gun_deaths_by_year = defaultdict(int)\n",
    "for ls in list_of_rows:\n",
    "    gun_deaths_by_year[ls[1]] += 1\n",
    "print(gun_deaths_by_year) \n"
   ]
  },
  {
   "cell_type": "markdown",
   "metadata": {},
   "source": [
    "### Assignment\n",
    "\n",
    "- Import the datetime library\n",
    "- Create a new list called \"dates\" with values from the data (set all the day values to 1)    \n",
    "- Count they number of gun deaths by month and year\n",
    "\n"
   ]
  },
  {
   "cell_type": "code",
   "execution_count": 5,
   "metadata": {},
   "outputs": [
    {
     "name": "stdout",
     "output_type": "stream",
     "text": [
      "defaultdict(<class 'int'>, {(1, 2012): 2758, (2, 2012): 2357, (3, 2012): 2743, (4, 2012): 2795, (5, 2012): 2999, (6, 2012): 2826, (7, 2012): 3026, (8, 2012): 2954, (9, 2012): 2852, (10, 2012): 2733, (11, 2012): 2729, (12, 2012): 2791, (1, 2013): 2864, (2, 2013): 2375, (3, 2013): 2862, (4, 2013): 2798, (5, 2013): 2806, (6, 2013): 2920, (7, 2013): 3079, (8, 2013): 2859, (9, 2013): 2742, (10, 2013): 2808, (11, 2013): 2758, (12, 2013): 2765, (1, 2014): 2651, (2, 2014): 2361, (3, 2014): 2684, (4, 2014): 2862, (5, 2014): 2864, (6, 2014): 2931, (7, 2014): 2884, (8, 2014): 2970, (9, 2014): 2914, (10, 2014): 2865, (11, 2014): 2756, (12, 2014): 2857})\n"
     ]
    }
   ],
   "source": [
    "# creates a dictionary that summerizes the number of gun deaths per month as reported in the dataset.  Date format is \n",
    "# (month, year).\n",
    "import datetime as dt\n",
    "date1 = '2012-01-01'\n",
    "date2 = '2015-1-01'\n",
    "start = dt.datetime.strptime(date1, '%Y-%m-%d')\n",
    "end = dt.datetime.strptime(date2, '%Y-%m-%d')\n",
    "step = dt.timedelta(days=31)\n",
    "dates = []\n",
    "while start <= end:\n",
    "    #dates.append(start.date())\n",
    "    dates.append(start.timetuple())\n",
    "    start += step\n",
    "\n",
    "gun_deaths_by_date = defaultdict(int)    \n",
    "for i in range(len(dates)):\n",
    "    date_key = dates[i][1], dates[i][0]\n",
    "    for ls in list_of_rows:\n",
    "        if int(ls[1]) == int(dates[i][0]) and int(ls[2]) == int(dates[i][1]):\n",
    "            gun_deaths_by_date[date_key] += 1\n",
    "\n",
    "print(gun_deaths_by_date)            \n",
    "\n",
    "\n"
   ]
  },
  {
   "cell_type": "markdown",
   "metadata": {},
   "source": [
    "### Assignment\n",
    "\n",
    "- Find the number of gun deaths by Sex\n",
    "- Find the number of gun deaths by Race\n",
    "- How does this compare to the overall population in the US?"
   ]
  },
  {
   "cell_type": "code",
   "execution_count": 6,
   "metadata": {},
   "outputs": [
    {
     "name": "stdout",
     "output_type": "stream",
     "text": [
      "defaultdict(<class 'int'>, {'M': 86349, 'F': 14449})\n",
      "defaultdict(<class 'int'>, {'Asian/Pacific Islander': 1326, 'White': 66237, 'Native American/Native Alaskan': 917, 'Black': 23296, 'Hispanic': 9022})\n"
     ]
    }
   ],
   "source": [
    "# creates a dictionary that summerizes the number of gun deaths per sex as reported in the dataset\n",
    "gun_deaths_by_sex = defaultdict(int)\n",
    "for ls in list_of_rows:\n",
    "    gun_deaths_by_sex[ls[5]] += 1\n",
    "print(gun_deaths_by_sex) \n",
    "\n",
    "# creates a dictionary that summerizes the number of gun deaths per race as reported in the dataset\n",
    "gun_deaths_by_race = defaultdict(int)\n",
    "for ls in list_of_rows:\n",
    "    gun_deaths_by_race[ls[7]] += 1\n",
    "print(gun_deaths_by_race)\n"
   ]
  },
  {
   "cell_type": "markdown",
   "metadata": {},
   "source": [
    "### Assignment\n",
    "\n",
    "- Reuse the data structure counting deaths by race\n",
    "- Use the dictionary below that has the actual population of each race\n",
    "- Compute the rates of gun deaths per race per 100,000 people\n",
    "\n",
    "mapping = {\n",
    "    \"Asian/Pacific Islander\": 15159516 + 674625,\n",
    "    \"Native American/Native Alaskan\": 3739506,\n",
    "    \"Black\": 40250635,\n",
    "    \"Hispanic\": 44618105,\n",
    "    \"White\": 197318956\n",
    "}"
   ]
  },
  {
   "cell_type": "code",
   "execution_count": 7,
   "metadata": {},
   "outputs": [
    {
     "name": "stdout",
     "output_type": "stream",
     "text": [
      "Gun deaths by race per 100,000 people\n",
      "Asian/Pacific Islander 8.37\n",
      "White 33.57\n",
      "Native American/Native Alaskan 24.52\n",
      "Black 57.88\n",
      "Hispanic 20.22\n"
     ]
    }
   ],
   "source": [
    "# computes the rates of gun deaths per race per 100,000 people\n",
    "mapping = {'Asian/Pacific Islander': 15834141, 'Native American/Native Alaskan': 3739506, 'Black': 40250635, \n",
    "           'Hispanic': 44618105, 'White': 197318956}\n",
    "print(\"Gun deaths by race per 100,000 people\")\n",
    "for key in gun_deaths_by_race:\n",
    "    per_100000 = round((gun_deaths_by_race[key]/mapping[key]) * 100000, 2)\n",
    "    print(key, per_100000)\n"
   ]
  },
  {
   "cell_type": "markdown",
   "metadata": {},
   "source": [
    "### Assignment\n",
    "\n",
    "You may not know this, but over half of all gun deaths are suicide.\n",
    "\n",
    "- Redo the computation of rates of gun deaths per race per 100,000 people\n",
    "- This time only count those that are \"Homicide\"\n",
    "- How are these different than the previous calculation?\n"
   ]
  },
  {
   "cell_type": "code",
   "execution_count": 8,
   "metadata": {},
   "outputs": [
    {
     "name": "stdout",
     "output_type": "stream",
     "text": [
      "Homicide gun deaths by race per 100,000 people\n",
      "White 4.64\n",
      "Asian/Pacific Islander 3.53\n",
      "Black 48.47\n",
      "Native American/Native Alaskan 8.72\n",
      "Hispanic 12.63\n"
     ]
    }
   ],
   "source": [
    "# computes the rates of homicide gun deaths per race per 100,000 people\n",
    "homicide_gun_deaths_by_race = defaultdict(int)\n",
    "for ls in list_of_rows:\n",
    "    if ls[3] == 'Homicide':\n",
    "        homicide_gun_deaths_by_race[ls[7]] += 1\n",
    "\n",
    "print(\"Homicide gun deaths by race per 100,000 people\")\n",
    "for key in homicide_gun_deaths_by_race:\n",
    "    per_100000 = round((homicide_gun_deaths_by_race[key]/mapping[key]) * 100000, 2)\n",
    "    print(key, per_100000)\n"
   ]
  },
  {
   "cell_type": "markdown",
   "metadata": {},
   "source": [
    "After calculating the total number of gun deaths per 100,000 people and the subset of those gun deaths that occured by homicide, it is clear that when compared to other races, black people are more likey to be killed by a gun in general (57.88 per 100,000) and as a result of homicide (48.47 per 100,000).  In fact they are 4 times more likely to be killed by a gun homicide than Hispanics, which have second highest rate of gun homicides (12.63 per 1000,000).  While whites have the second highest frequency of gun deaths per 100,000 (33.57) they have the second lowest frequency of gun homicides (4.67) which gives them the lowest percentage of total gun deaths that are homicides.  Asian/Pacific Islander have the lowest gun deaths and gun homicides per 100,000 of any racial group at 8.37 and 3.53 respectively.    \n",
    "                        "
   ]
  },
  {
   "cell_type": "code",
   "execution_count": null,
   "metadata": {},
   "outputs": [],
   "source": []
  }
 ],
 "metadata": {
  "anaconda-cloud": {},
  "kernelspec": {
   "display_name": "Python 3",
   "language": "python",
   "name": "python3"
  },
  "language_info": {
   "codemirror_mode": {
    "name": "ipython",
    "version": 3
   },
   "file_extension": ".py",
   "mimetype": "text/x-python",
   "name": "python",
   "nbconvert_exporter": "python",
   "pygments_lexer": "ipython3",
   "version": "3.6.5"
  }
 },
 "nbformat": 4,
 "nbformat_minor": 1
}
