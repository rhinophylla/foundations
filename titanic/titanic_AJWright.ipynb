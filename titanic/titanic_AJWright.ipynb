{
 "cells": [
  {
   "cell_type": "markdown",
   "metadata": {},
   "source": [
    "# Titanic Data Set - Statistics Review\n",
    "\n",
    "[Variable Descriptions](https://www.kaggle.com/c/titanic/data)."
   ]
  },
  {
   "cell_type": "code",
   "execution_count": 1,
   "metadata": {},
   "outputs": [],
   "source": [
    "% matplotlib inline\n",
    "\n",
    "import pandas as pd\n",
    "import numpy as np\n",
    "import matplotlib.pyplot as plt\n",
    "import scipy.stats as stats\n"
   ]
  },
  {
   "cell_type": "code",
   "execution_count": 2,
   "metadata": {},
   "outputs": [],
   "source": [
    "df = pd.read_csv('titanic.csv')"
   ]
  },
  {
   "cell_type": "markdown",
   "metadata": {},
   "source": [
    "**Describe the data. **\n",
    "- How big?\n",
    "- What are the columns and what do they mean?"
   ]
  },
  {
   "cell_type": "code",
   "execution_count": 62,
   "metadata": {},
   "outputs": [
    {
     "name": "stdout",
     "output_type": "stream",
     "text": [
      "The dataset has 891 rows and 14 columns.\n",
      "The column names are:\n",
      "Index(['PassengerId', 'Survived', 'Pclass', 'Name', 'Sex', 'Age', 'SibSp',\n",
      "       'Parch', 'Ticket', 'Fare', 'Cabin', 'Embarked', 'family',\n",
      "       'quantile_fare20'],\n",
      "      dtype='object')\n"
     ]
    },
    {
     "data": {
      "text/plain": [
       "0    608\n",
       "1    209\n",
       "2     28\n",
       "4     18\n",
       "3     16\n",
       "8      7\n",
       "5      5\n",
       "Name: SibSp, dtype: int64"
      ]
     },
     "execution_count": 62,
     "metadata": {},
     "output_type": "execute_result"
    }
   ],
   "source": [
    "print(\"The dataset has \" + str(df.shape[0]) + \" rows and \" + str(df.shape[1]) + \" columns.\")\n",
    "\n",
    "print(\"The column names are:\")\n",
    "print(df.columns)\n",
    "df[\"SibSp\"].value_counts()"
   ]
  },
  {
   "cell_type": "markdown",
   "metadata": {},
   "source": [
    "### Explanation of column headings (from https://www.kaggle.com/c/titanic/data)\n",
    "\n",
    "__PassengerID__: ID number randomly assigned to each passenger. Ranges from 1 - 891. \n",
    "\n",
    "__Survived__:  if a passanger survived the trip or not.  0 = No; 1 = Yes\n",
    "\n",
    "__Pclass__:  Ticket class.  1 = 1st, 2 = 2nd, 3 = 3rd.  Proxy for socio-ecomomic class (SSC).\n",
    "\n",
    "__Name__:  Name of the passenger.  Order is last name, title, first name, middle name, nickname. Married women are named with their husband's name and their full maiden name is given in parentheses afterwards (first name, middle name, maiden last name)\n",
    "\n",
    "__Sex__:  Sex of the passenger\n",
    "\n",
    "__Age__:  Age in years of the passenger.  If the passenger was <1 one years old, a fraction is given.  If the age was estimated, it ends in 0.5\n",
    "\n",
    "__SibSp__:  Number of siblings (brother, sister, stepbrother, and/or stepsister) plus number of spouses (husband or wife) on board.  Fiances and mistresses were ignored.\n",
    "\n",
    "__Parch__:  Number of parents (mother and/or father) plus the number of children (daughter(s), son(s), stepdaugher(s), and/or stepson(s) on board.  \n",
    "\n",
    "__Ticket__:  Ticket number\n",
    "\n",
    "__Fare__:  Cost of the passenger's ticket. \n",
    "\n",
    "__Cabin__:  Cabin number\n",
    "\n",
    "__Embarked__:  Port of embarkation.  C = Cerbourg, Q = Queenstown, S = Southampton"
   ]
  },
  {
   "cell_type": "markdown",
   "metadata": {},
   "source": [
    "**What’s the average age of:**\n",
    "\n",
    "- Any Titanic passenger\n",
    "- A survivor\n",
    "- A non-surviving first-class passenger\n",
    "- Male survivors older than 30 from anywhere but Queenstown"
   ]
  },
  {
   "cell_type": "code",
   "execution_count": 5,
   "metadata": {},
   "outputs": [
    {
     "name": "stdout",
     "output_type": "stream",
     "text": [
      "The average age of a Titanic passenger:   29.69911764705882\n",
      "The average age of a Titanic survivor:   28.343689655172415\n",
      "The average age of a non-surviving first-class passenger:  43.6953125\n",
      "The average age of a male surviver over 30 from anywhere but Queenstown:   27.257282608695654\n"
     ]
    }
   ],
   "source": [
    "mean_age = df[\"Age\"].mean()\n",
    "print(\"The average age of a Titanic passenger:  \", mean_age)\n",
    "\n",
    "#by using groupby\n",
    "age_by_survival = df.groupby(\"Survived\")[\"Age\"].mean()\n",
    "print(\"The average age of a Titanic survivor:  \", age_by_survival.iloc[1])\n",
    "\n",
    "age_dead_first = df.groupby([\"Survived\", \"Pclass\"])[\"Age\"].mean()\n",
    "print(\"The average age of a non-surviving first-class passenger: \", age_dead_first.iloc[0])\n",
    "\n",
    "over30 = df.loc[df[\"Age\"]>30]\n",
    "over30_noQ = df.loc[df[\"Embarked\"] != \"Q\"]\n",
    "over30_noQ_sex_surv = over30_noQ.groupby([\"Survived\", \"Sex\"])\n",
    "over30_noQ_male_surv_meanage = over30_noQ_sex_surv.get_group((1, \"male\"))[\"Age\"].mean()\n",
    "print(\"The average age of a male surviver over 30 from anywhere but Queenstown:  \", over30_noQ_male_surv_meanage)\n"
   ]
  },
  {
   "cell_type": "markdown",
   "metadata": {},
   "source": [
    "**For the groups from the previous task, how far (in years) are the average ages from the median ages?**"
   ]
  },
  {
   "cell_type": "code",
   "execution_count": 7,
   "metadata": {},
   "outputs": [
    {
     "name": "stdout",
     "output_type": "stream",
     "text": [
      "The difference in median and mean age of a Titanic passenger is:\n",
      "-1.69911764705882\n",
      "The difference in median and mean age of a Titanic survivor is:\n",
      "-0.34368965517241534\n",
      "The difference in median and mean age of a non-surviving first-class passenger is:\n",
      "1.5546875\n",
      "The difference in median and mean age of a male surviver over 30 from anywhere but Queenstown:\n",
      "0.2427173913043461\n"
     ]
    }
   ],
   "source": [
    "print(\"The difference in median and mean age of a Titanic passenger is:\")\n",
    "print(df[\"Age\"].median() - mean_age)\n",
    "\n",
    "print(\"The difference in median and mean age of a Titanic survivor is:\")\n",
    "print(df.groupby(\"Survived\")[\"Age\"].median().iloc[0] - age_by_survival.iloc[1])\n",
    "\n",
    "print(\"The difference in median and mean age of a non-surviving first-class passenger is:\")\n",
    "print(df.groupby([\"Survived\", \"Pclass\"])[\"Age\"].median().iloc[0] - age_dead_first.iloc[0])\n",
    "\n",
    "print(\"The difference in median and mean age of a male surviver over 30 from anywhere but Queenstown:\")\n",
    "print(over30_noQ_sex_surv.get_group((1, \"male\"))[\"Age\"].median() - over30_noQ_male_surv_meanage)\n"
   ]
  },
  {
   "cell_type": "markdown",
   "metadata": {},
   "source": [
    "**What’s the most common:**\n",
    "- Passenger class\n",
    "- Port of Embarkation\n",
    "- Number of siblings or spouses aboard for survivors"
   ]
  },
  {
   "cell_type": "code",
   "execution_count": 8,
   "metadata": {},
   "outputs": [
    {
     "name": "stdout",
     "output_type": "stream",
     "text": [
      "The most common passenger class is: \n",
      "3\n",
      "The most common port of embarkation is: \n",
      "S\n",
      "The most common number of siblings or spouses aboard for survivors is:\n",
      "0\n"
     ]
    }
   ],
   "source": [
    "print(\"The most common passenger class is: \")\n",
    "print(df[\"Pclass\"].value_counts().idxmax())\n",
    "print(\"The most common port of embarkation is: \")\n",
    "print(df[\"Embarked\"].value_counts().idxmax())\n",
    "\n",
    "df_surv = df.groupby(\"Survived\").get_group(0)\n",
    "print(\"The most common number of siblings or spouses aboard for survivors is:\")\n",
    "print(df_surv[\"SibSp\"].value_counts().idxmax())\n"
   ]
  },
  {
   "cell_type": "markdown",
   "metadata": {},
   "source": [
    "**Within what range of standard deviations from the mean (0-1, 1-2, 2-3) is the median ticket price? Is it above or below the mean?**"
   ]
  },
  {
   "cell_type": "code",
   "execution_count": 9,
   "metadata": {},
   "outputs": [
    {
     "name": "stdout",
     "output_type": "stream",
     "text": [
      "The mean fare is:   32.2042079685746\n",
      "The median fare is:   14.4542\n",
      "The standard deviation from the mean is:   49.693428597180905\n",
      "The median fare is below the mean and within the 0-1 standard deviation.\n"
     ]
    }
   ],
   "source": [
    "mean_fare = df[\"Fare\"].mean()\n",
    "median_fare = df[\"Fare\"].median()\n",
    "stdev_fare = df[\"Fare\"].std()\n",
    "\n",
    "print(\"The mean fare is:  \", mean_fare)\n",
    "print(\"The median fare is:  \", median_fare)\n",
    "print(\"The standard deviation from the mean is:  \", stdev_fare)\n",
    "\n",
    "print(\"The median fare is below the mean and within the 0-1 standard deviation.\") \n",
    "\n",
    "\n"
   ]
  },
  {
   "cell_type": "markdown",
   "metadata": {},
   "source": [
    "**How much more expensive was the 90th percentile ticket than the 5th percentile ticket? Are they the same class?**"
   ]
  },
  {
   "cell_type": "code",
   "execution_count": 10,
   "metadata": {},
   "outputs": [
    {
     "name": "stdout",
     "output_type": "stream",
     "text": [
      "The difference between the cost of the 90th percentile and 5th percentile tickets was: \n",
      "70.7333\n",
      "Class of passengers who paid the 90th percentile fare price:  \n",
      "275    1\n",
      "627    1\n",
      "765    1\n",
      "Name: Pclass, dtype: int64\n",
      "Class of passengers who paid the 5th percentile fare price:  \n",
      "19     3\n",
      "26     3\n",
      "203    3\n",
      "244    3\n",
      "354    3\n",
      "522    3\n",
      "553    3\n",
      "598    3\n",
      "661    3\n",
      "693    3\n",
      "773    3\n",
      "875    3\n",
      "Name: Pclass, dtype: int64\n",
      "The passengers who paid the 90th percentile fare traveled first class while those who paid the 5th percentile fare traveled third class.\n"
     ]
    }
   ],
   "source": [
    "print(\"The difference between the cost of the 90th percentile and 5th percentile tickets was: \")\n",
    "print(df[\"Fare\"].quantile(0.90) - df[\"Fare\"].quantile(0.05))\n",
    "\n",
    "print(\"Class of passengers who paid the 90th percentile fare price:  \")\n",
    "print(df[df[\"Fare\"]==df[\"Fare\"].quantile(0.90)][\"Pclass\"])\n",
    "\n",
    "print(\"Class of passengers who paid the 5th percentile fare price:  \")\n",
    "print(df[df[\"Fare\"]==df[\"Fare\"].quantile(0.05)][\"Pclass\"])\n",
    "\n",
    "print(\"The passengers who paid the 90th percentile fare traveled first class while those who paid the 5th percentile fare traveled third class.\")\n"
   ]
  },
  {
   "cell_type": "markdown",
   "metadata": {},
   "source": [
    "**The highest average ticket price was paid by passengers from which port? Null ports don’t count.**"
   ]
  },
  {
   "cell_type": "code",
   "execution_count": 11,
   "metadata": {},
   "outputs": [
    {
     "name": "stdout",
     "output_type": "stream",
     "text": [
      "The highest average ticket price was paid by passengers from the port of : C\n"
     ]
    }
   ],
   "source": [
    "print(\"The highest average ticket price was paid by passengers from the port of :\", \n",
    "      df.groupby(\"Embarked\")[\"Fare\"].mean().idxmax())"
   ]
  },
  {
   "cell_type": "markdown",
   "metadata": {},
   "source": [
    "**What is the most common passenger class for each port?**"
   ]
  },
  {
   "cell_type": "code",
   "execution_count": 12,
   "metadata": {},
   "outputs": [
    {
     "name": "stdout",
     "output_type": "stream",
     "text": [
      "The most common passenger class passengers embarking at the Port of Cerbourg:   1\n",
      "The most common passenger class passengers embarking at the Port of Queenstown:   3\n",
      "The most common passenger class passengers embarking at the Port of Southhampton:   3\n"
     ]
    }
   ],
   "source": [
    "embarked = df.groupby(\"Embarked\")\n",
    "embarked.get_group(\"C\")[\"Pclass\"].value_counts().idxmax()\n",
    "print(\"The most common passenger class passengers embarking at the Port of Cerbourg:  \",\n",
    "     embarked.get_group(\"C\")[\"Pclass\"].value_counts().idxmax())\n",
    "print(\"The most common passenger class passengers embarking at the Port of Queenstown:  \",\n",
    "     embarked.get_group(\"Q\")[\"Pclass\"].value_counts().idxmax())\n",
    "print(\"The most common passenger class passengers embarking at the Port of Southhampton:  \",\n",
    "     embarked.get_group(\"S\")[\"Pclass\"].value_counts().idxmax())"
   ]
  },
  {
   "cell_type": "markdown",
   "metadata": {},
   "source": [
    "**What fraction of surviving 1st-class males paid lower than double the overall median ticket price?**"
   ]
  },
  {
   "cell_type": "code",
   "execution_count": 14,
   "metadata": {},
   "outputs": [
    {
     "name": "stdout",
     "output_type": "stream",
     "text": [
      "0.29 of surviving 1st-class males paid lower than double the overall median ticket price.\n"
     ]
    }
   ],
   "source": [
    "surv_pclass_sex= df.groupby([\"Survived\", \"Pclass\", \"Sex\"])\n",
    "surv_1_male = surv_pclass_sex.get_group((0, 1, \"male\"))\n",
    "surv_1_male_less_2med = surv_1_male[surv_1_male[\"Fare\"] < 2*median_fare]\n",
    "\n",
    "print(round(len(surv_1_male_less_2med)/len(surv_1_male),2), \n",
    "      \"of surviving 1st-class males paid lower than double the overall median ticket price.\")\n"
   ]
  },
  {
   "cell_type": "markdown",
   "metadata": {},
   "source": [
    "**How much older/younger was the average surviving passenger with family members than the average non-surviving passenger without them?**"
   ]
  },
  {
   "cell_type": "code",
   "execution_count": 16,
   "metadata": {},
   "outputs": [],
   "source": [
    "df[\"family\"] = df[\"SibSp\"] + df[\"Parch\"]"
   ]
  },
  {
   "cell_type": "code",
   "execution_count": 17,
   "metadata": {},
   "outputs": [
    {
     "name": "stdout",
     "output_type": "stream",
     "text": [
      "The average age of a surviving person with family members (siblings, spouses, kids, or parents aboard was  5.81 years less than a survivor with no family aboard.\n"
     ]
    }
   ],
   "source": [
    "fam_df = df[df[\"family\"]>0]\n",
    "fam_df_surv = fam_df.groupby(\"Survived\").get_group((1))[\"Age\"].mean()\n",
    "no_fam_df = df[df[\"family\"]==0]\n",
    "no_fam_surv = no_fam_df.groupby(\"Survived\").get_group((1))[\"Age\"].mean()\n",
    "diff = round(abs(fam_df[\"Age\"].mean() - no_fam_df[\"Age\"].mean()), 2)\n",
    "\n",
    "print(\"The average age of a surviving person with family members (siblings, spouses, kids, or parents aboard was \", diff,\n",
    "     \"years less than a survivor with no family aboard.\")"
   ]
  },
  {
   "cell_type": "markdown",
   "metadata": {},
   "source": [
    "**Display the relationship (i.e. make a plot) between survival rate and the quantile of the ticket price for 20 integer quantiles.**\n",
    "- To be clearer, what I want is for you to specify 20 quantiles, and for each of those quantiles divide the number of survivors in that quantile by the total number of people in that quantile. That’ll give you the survival rate in that quantile.\n",
    "- Then plot a line of the survival rate against the ticket fare quantiles.\n",
    "- Make sure you label your axes."
   ]
  },
  {
   "cell_type": "code",
   "execution_count": 18,
   "metadata": {},
   "outputs": [],
   "source": [
    "df[\"quantile_fare20\"] = pd.qcut(df['Fare'], 20, labels=False)"
   ]
  },
  {
   "cell_type": "code",
   "execution_count": 19,
   "metadata": {},
   "outputs": [],
   "source": [
    "quant_total = df.groupby(\"quantile_fare20\")[\"PassengerId\"].count()\n",
    "quant_total.rename(\"Total\", inplace=True)\n",
    "\n",
    "df_surv = df[df[\"Survived\"]==1]\n",
    "quant_surv = df_surv.groupby(\"quantile_fare20\")[\"PassengerId\"].count()\n",
    "quant_surv.rename(\"Survived\", inplace=True)\n",
    "\n",
    "plot_df = pd.concat([quant_surv, quant_total], axis =1)"
   ]
  },
  {
   "cell_type": "code",
   "execution_count": 20,
   "metadata": {},
   "outputs": [],
   "source": [
    "plot_df[\"Survival Rate\"]=plot_df[\"Survived\"]/plot_df[\"Total\"]\n",
    "plot_df[\"Quantile\"] = plot_df.index"
   ]
  },
  {
   "cell_type": "code",
   "execution_count": 21,
   "metadata": {},
   "outputs": [
    {
     "data": {
      "text/plain": [
       "Text(0.5,1,'Relationship between survival rate and the quantile of the ticket price')"
      ]
     },
     "execution_count": 21,
     "metadata": {},
     "output_type": "execute_result"
    },
    {
     "data": {
      "image/png": "[encoded data removed]",
      "text/plain": [
       "<Figure size 432x288 with 1 Axes>"
      ]
     },
     "metadata": {},
     "output_type": "display_data"
    }
   ],
   "source": [
    "plt.plot(plot_df[\"Quantile\"], plot_df[\"Survival Rate\"])\n",
    "plt.xlabel(\"Quantile of Titanic Ticket Fares\")\n",
    "plt.ylabel(\"Survival Rate\")\n",
    "plt.title(\"Relationship between survival rate and the quantile of the ticket price\")"
   ]
  },
  {
   "cell_type": "markdown",
   "metadata": {},
   "source": [
    "**For each of the following characteristics, find the median in the data:**\n",
    "- Age\n",
    "- Ticket price\n",
    "- Siblings/spouses\n",
    "- Parents/children"
   ]
  },
  {
   "cell_type": "code",
   "execution_count": 22,
   "metadata": {},
   "outputs": [
    {
     "name": "stdout",
     "output_type": "stream",
     "text": [
      "The median age:   28.0\n",
      "The median ticket price:   14.4542\n",
      "The median number of siblings and/or spouses on board:   0.0\n",
      "The median number of parents and/or children on board:   0.0\n"
     ]
    }
   ],
   "source": [
    "median_age = df[\"Age\"].median()\n",
    "median_sibsp = df[\"SibSp\"].median()\n",
    "median_parch = df[\"Parch\"].median()\n",
    "\n",
    "print(\"The median age:  \", median_age)\n",
    "print(\"The median ticket price:  \", median_fare)\n",
    "print(\"The median number of siblings and/or spouses on board:  \", median_sibsp)\n",
    "print(\"The median number of parents and/or children on board:  \", median_parch)"
   ]
  },
  {
   "cell_type": "markdown",
   "metadata": {},
   "source": [
    "**If you were to use these medians to draw numerical boundaries separating survivors from non-survivors, which of these characteristics would be the best choice and why?**"
   ]
  },
  {
   "cell_type": "code",
   "execution_count": 40,
   "metadata": {},
   "outputs": [],
   "source": [
    "survivors = df[df[\"Survived\"]==1]"
   ]
  },
  {
   "cell_type": "code",
   "execution_count": 36,
   "metadata": {},
   "outputs": [],
   "source": [
    "#Age\n",
    "df_cleanage = df.copy()\n",
    "df_cleanage.dropna(subset=[\"Age\"], inplace=True)\n",
    "df_cleanage[\"Quantile_age2\"]=pd.qcut(df_cleanage[\"Age\"], 2, labels=False)"
   ]
  },
  {
   "cell_type": "code",
   "execution_count": 54,
   "metadata": {},
   "outputs": [],
   "source": [
    "survivors_cleanage = survivors.copy()\n",
    "survivors_cleanage.dropna(subset=[\"Age\"], inplace=True)\n",
    "survivors_cleanage[\"Quantile_age2\"] = pd.qcut(survivors_cleanage[\"Age\"], 2, labels=False)\n"
   ]
  },
  {
   "cell_type": "code",
   "execution_count": 55,
   "metadata": {},
   "outputs": [
    {
     "data": {
      "text/html": [
       "<div>\n",
       "<style scoped>\n",
       "    .dataframe tbody tr th:only-of-type {\n",
       "        vertical-align: middle;\n",
       "    }\n",
       "\n",
       "    .dataframe tbody tr th {\n",
       "        vertical-align: top;\n",
       "    }\n",
       "\n",
       "    .dataframe thead th {\n",
       "        text-align: right;\n",
       "    }\n",
       "</style>\n",
       "<table border=\"1\" class=\"dataframe\">\n",
       "  <thead>\n",
       "    <tr style=\"text-align: right;\">\n",
       "      <th></th>\n",
       "      <th>Total</th>\n",
       "      <th>Survivors</th>\n",
       "      <th>Survival Rate</th>\n",
       "      <th>Quantile</th>\n",
       "    </tr>\n",
       "    <tr>\n",
       "      <th>Quantile_age2</th>\n",
       "      <th></th>\n",
       "      <th></th>\n",
       "      <th></th>\n",
       "      <th></th>\n",
       "    </tr>\n",
       "  </thead>\n",
       "  <tbody>\n",
       "    <tr>\n",
       "      <th>0</th>\n",
       "      <td>362</td>\n",
       "      <td>148</td>\n",
       "      <td>0.408840</td>\n",
       "      <td>0</td>\n",
       "    </tr>\n",
       "    <tr>\n",
       "      <th>1</th>\n",
       "      <td>352</td>\n",
       "      <td>142</td>\n",
       "      <td>0.403409</td>\n",
       "      <td>1</td>\n",
       "    </tr>\n",
       "  </tbody>\n",
       "</table>\n",
       "</div>"
      ],
      "text/plain": [
       "               Total  Survivors  Survival Rate  Quantile\n",
       "Quantile_age2                                           \n",
       "0                362        148       0.408840         0\n",
       "1                352        142       0.403409         1"
      ]
     },
     "execution_count": 55,
     "metadata": {},
     "output_type": "execute_result"
    }
   ],
   "source": [
    "age2_total = df_cleanage.groupby(\"Quantile_age2\")[\"PassengerId\"].count()\n",
    "age2_total.rename(\"Total\", inplace=True)\n",
    "\n",
    "age2_surv = survivors_cleanage.groupby(\"Quantile_age2\")[\"PassengerId\"].count()\n",
    "age2_surv.rename(\"Survivors\", inplace=True)\n",
    "\n",
    "age2_df = pd.concat([age2_total, age2_surv], axis=1)\n",
    "age2_df[\"Survival Rate\"] = age2_df[\"Survivors\"]/age2_df[\"Total\"]\n",
    "age2_df[\"Quantile\"]=age2_df.index"
   ]
  },
  {
   "cell_type": "code",
   "execution_count": 60,
   "metadata": {},
   "outputs": [
    {
     "data": {
      "text/plain": [
       "(0, 1)"
      ]
     },
     "execution_count": 60,
     "metadata": {},
     "output_type": "execute_result"
    },
    {
     "data": {
      "image/png": "[encoded data removed]",
      "text/plain": [
       "<Figure size 432x288 with 1 Axes>"
      ]
     },
     "metadata": {},
     "output_type": "display_data"
    }
   ],
   "source": [
    "plt.bar([\"below median age\", \"above median age\"], age2_df[\"Survival Rate\"])\n",
    "plt.ylabel(\"Survival Rate\")\n",
    "plt.title(\"Relationship between survival rate and the median age\")\n",
    "plt.ylim(0,1)"
   ]
  },
  {
   "cell_type": "code",
   "execution_count": 67,
   "metadata": {},
   "outputs": [],
   "source": [
    "#Fare\n",
    "df_fare2 = df.copy()\n",
    "df_fare2[\"Quantile_fare2\"] = pd.qcut(df_fare2[\"Fare\"], 2, labels=False)\n",
    "\n",
    "df_surv_fare = survivors.copy()\n",
    "df_surv_fare[\"Quantile_fare2\"] = pd.qcut(df_surv_fare[\"Fare\"], 2, labels=False)"
   ]
  },
  {
   "cell_type": "code",
   "execution_count": 70,
   "metadata": {},
   "outputs": [
    {
     "data": {
      "text/html": [
       "<div>\n",
       "<style scoped>\n",
       "    .dataframe tbody tr th:only-of-type {\n",
       "        vertical-align: middle;\n",
       "    }\n",
       "\n",
       "    .dataframe tbody tr th {\n",
       "        vertical-align: top;\n",
       "    }\n",
       "\n",
       "    .dataframe thead th {\n",
       "        text-align: right;\n",
       "    }\n",
       "</style>\n",
       "<table border=\"1\" class=\"dataframe\">\n",
       "  <thead>\n",
       "    <tr style=\"text-align: right;\">\n",
       "      <th></th>\n",
       "      <th>Total</th>\n",
       "      <th>Survivors</th>\n",
       "      <th>Survival Rate</th>\n",
       "      <th>Quantile</th>\n",
       "    </tr>\n",
       "    <tr>\n",
       "      <th>Quantile_fare2</th>\n",
       "      <th></th>\n",
       "      <th></th>\n",
       "      <th></th>\n",
       "      <th></th>\n",
       "    </tr>\n",
       "  </thead>\n",
       "  <tbody>\n",
       "    <tr>\n",
       "      <th>0</th>\n",
       "      <td>447</td>\n",
       "      <td>177</td>\n",
       "      <td>0.395973</td>\n",
       "      <td>0</td>\n",
       "    </tr>\n",
       "    <tr>\n",
       "      <th>1</th>\n",
       "      <td>444</td>\n",
       "      <td>165</td>\n",
       "      <td>0.371622</td>\n",
       "      <td>1</td>\n",
       "    </tr>\n",
       "  </tbody>\n",
       "</table>\n",
       "</div>"
      ],
      "text/plain": [
       "                Total  Survivors  Survival Rate  Quantile\n",
       "Quantile_fare2                                           \n",
       "0                 447        177       0.395973         0\n",
       "1                 444        165       0.371622         1"
      ]
     },
     "execution_count": 70,
     "metadata": {},
     "output_type": "execute_result"
    }
   ],
   "source": [
    "fare2_total = df_fare2.groupby(\"Quantile_fare2\")[\"PassengerId\"].count()\n",
    "fare2_total.rename(\"Total\", inplace=True)\n",
    "\n",
    "fare2_surv = df_surv_fare.groupby(\"Quantile_fare2\")[\"PassengerId\"].count()\n",
    "fare2_surv.rename(\"Survivors\", inplace=True)\n",
    "\n",
    "fare2_df = pd.concat([fare2_total, fare2_surv], axis=1)\n",
    "fare2_df[\"Survival Rate\"] = fare2_df[\"Survivors\"]/fare2_df[\"Total\"]\n",
    "fare2_df[\"Quantile\"]=fare2_df.index"
   ]
  },
  {
   "cell_type": "code",
   "execution_count": 71,
   "metadata": {},
   "outputs": [
    {
     "data": {
      "text/plain": [
       "(0, 1)"
      ]
     },
     "execution_count": 71,
     "metadata": {},
     "output_type": "execute_result"
    },
    {
     "data": {
      "image/png": "[encoded data removed]",
      "text/plain": [
       "<Figure size 432x288 with 1 Axes>"
      ]
     },
     "metadata": {},
     "output_type": "display_data"
    }
   ],
   "source": [
    "plt.bar([\"below median age\", \"above median age\"], fare2_df[\"Survival Rate\"])\n",
    "plt.ylabel(\"Survival Rate\")\n",
    "plt.title(\"Relationship between survival rate and the median fare price\")\n",
    "plt.ylim(0,1)"
   ]
  },
  {
   "cell_type": "code",
   "execution_count": 84,
   "metadata": {},
   "outputs": [
    {
     "name": "stdout",
     "output_type": "stream",
     "text": [
      "0.34539473684210525\n",
      "0.4664310954063604\n"
     ]
    },
    {
     "data": {
      "text/plain": [
       "(0, 1)"
      ]
     },
     "execution_count": 84,
     "metadata": {},
     "output_type": "execute_result"
    },
    {
     "data": {
      "image/png": "[encoded data removed]",
      "text/plain": [
       "<Figure size 432x288 with 1 Axes>"
      ]
     },
     "metadata": {},
     "output_type": "display_data"
    }
   ],
   "source": [
    "# number of sib/spouses\n",
    "df_sibsp_0 = df[df[\"SibSp\"]==0]\n",
    "df_sibsp_not0 = df[df[\"SibSp\"]>0]\n",
    "\n",
    "#survival rate of those with 0 sib/spouses\n",
    "surv_rate_0 = df_sibsp_0.groupby(\"Survived\").get_group(1)[\"PassengerId\"].count()/df_sibsp_0[\"PassengerId\"].count()\n",
    "print(surv_rate_0)\n",
    "\n",
    "#survival rate of those with 1 or more sib/spouses\n",
    "surv_rate_not0 = df_sibsp_not0.groupby(\"Survived\").get_group(1)[\"PassengerId\"].count()/df_sibsp_not0[\"PassengerId\"].count()\n",
    "print(surv_rate_not0)\n",
    "\n",
    "plt.bar([\"below median numer\", \"above median number\"], [surv_rate_0, surv_rate_not0])\n",
    "plt.ylabel(\"Survival Rate\")\n",
    "plt.title(\"Relationship between survival rate and the median number of siblings/spouses on board\")\n",
    "plt.ylim(0,1)\n"
   ]
  },
  {
   "cell_type": "code",
   "execution_count": 85,
   "metadata": {},
   "outputs": [
    {
     "name": "stdout",
     "output_type": "stream",
     "text": [
      "0.34365781710914456\n",
      "0.5117370892018779\n"
     ]
    },
    {
     "data": {
      "text/plain": [
       "(0, 1)"
      ]
     },
     "execution_count": 85,
     "metadata": {},
     "output_type": "execute_result"
    },
    {
     "data": {
      "image/png": "[encoded data removed]",
      "text/plain": [
       "<Figure size 432x288 with 1 Axes>"
      ]
     },
     "metadata": {},
     "output_type": "display_data"
    }
   ],
   "source": [
    "# number of parents/children\n",
    "df_parch_0 = df[df[\"Parch\"]==0]\n",
    "df_parch_not0 = df[df[\"Parch\"]>0]\n",
    "\n",
    "#survival rate of those with 0 sib/spouses\n",
    "surv_rate_pc0 = df_parch_0.groupby(\"Survived\").get_group(1)[\"PassengerId\"].count()/df_parch_0[\"PassengerId\"].count()\n",
    "print(surv_rate_pc0)\n",
    "\n",
    "#survival rate of those with 1 or more sib/spouses\n",
    "surv_rate_notpc0 = df_parch_not0.groupby(\"Survived\").get_group(1)[\"PassengerId\"].count()/df_parch_not0[\"PassengerId\"].count()\n",
    "print(surv_rate_notpc0)\n",
    "\n",
    "plt.bar([\"below median numer\", \"above median number\"], [surv_rate_pc0, surv_rate_notpc0])\n",
    "plt.ylabel(\"Survival Rate\")\n",
    "plt.title(\"Relationship between survival rate and the median number of parents/children on board\")\n",
    "plt.ylim(0,1)"
   ]
  },
  {
   "cell_type": "markdown",
   "metadata": {},
   "source": [
    "### Q:  If you were to use these medians to draw numerical boundaries separating survivors from non-survivors, which of these characteristics would be the best choice and why?\n",
    "\n",
    "A:  I would chose the median number of parents and children on board which gave the greatest differential in survival rate between passengers with above and below the median number (which was 0). "
   ]
  },
  {
   "cell_type": "markdown",
   "metadata": {},
   "source": [
    "**Plot the distribution of passenger ages. Choose visually-meaningful bin sizes and label your axes.**"
   ]
  },
  {
   "cell_type": "code",
   "execution_count": 90,
   "metadata": {},
   "outputs": [
    {
     "data": {
      "text/plain": [
       "Text(0.5,1,'Histogram of the age distribution of Titanic passengers')"
      ]
     },
     "execution_count": 90,
     "metadata": {},
     "output_type": "execute_result"
    },
    {
     "data": {
      "image/png": "[encoded data removed]",
      "text/plain": [
       "<Figure size 432x288 with 1 Axes>"
      ]
     },
     "metadata": {},
     "output_type": "display_data"
    }
   ],
   "source": [
    "plt.hist(df_cleanage[\"Age\"], bins=([0,5,10,15,20,25,30,35,40,45,50,55,60,65,70,75,80]))\n",
    "plt.xlabel(\"Age\")\n",
    "plt.ylabel(\"Number of people\")\n",
    "plt.title(\"Histogram of the age distribution of Titanic passengers\")"
   ]
  },
  {
   "cell_type": "markdown",
   "metadata": {},
   "source": [
    "**Find the probability that:**\n",
    "- A passenger survived\n",
    "- A passenger was male\n",
    "- A passenger was female and had at least one sibling or spouse on board\n",
    "- A survivor was from Cherbourg\n",
    "- A passenger was less than 10 years old\n",
    "- A passenger was between 25 and 40 years old\n",
    "- A passenger was either younger than 20 years old or older than 50"
   ]
  },
  {
   "cell_type": "code",
   "execution_count": 122,
   "metadata": {},
   "outputs": [
    {
     "name": "stdout",
     "output_type": "stream",
     "text": [
      "The probability that a passenger survived is:\n",
      "0.3838383838383838\n",
      "The probability that a passenger was male is:\n",
      "0.6475869809203143\n",
      "The probability that a passenger was female and had a least on sibling or spouse on board:\n",
      "0.15712682379349047\n",
      "The probability that a survivor was from Cherbourg:\n",
      "0.10437710437710437\n",
      "The probability that a passenger was less than 10 years old: \n",
      "0.08683473389355742\n",
      "The probability that a passenger was between 25 and 40 years old:\n",
      "0.35014005602240894\n",
      "The probability that a passenger was either younger than 20 years old or older than 50:\n",
      "0.31932773109243695\n"
     ]
    }
   ],
   "source": [
    "print(\"The probability that a passenger survived is:\")\n",
    "prob_surv = df.groupby(\"Survived\").get_group(1)[\"Survived\"].count()/df[\"Survived\"].count()\n",
    "print(prob_surv)\n",
    "print(\"The probability that a passenger was male is:\")\n",
    "print(df.groupby(\"Sex\").get_group(\"male\")[\"Sex\"].count()/df[\"Sex\"].count())\n",
    "print(\"The probability that a passenger was female and had a least on sibling or spouse on board:\")\n",
    "print(df_sibsp_not0.groupby(\"Sex\").get_group(\"female\")[\"Sex\"].count()/df[\"Sex\"].count())\n",
    "print(\"The probability that a survivor was from Cherbourg:\")\n",
    "print(df.groupby([\"Survived\", \"Embarked\"]).get_group((1,\"C\"))[\"Survived\"].count()/df[\"Survived\"].count())\n",
    "print(\"The probability that a passenger was less than 10 years old: \")\n",
    "print(df[df.Age < 10][\"Age\"].count()/df[\"Age\"].count())\n",
    "print(\"The probability that a passenger was between 25 and 40 years old:\")\n",
    "print(df[(df.Age > 25) & (df.Age <40)][\"Age\"].count()/df[\"Age\"].count())\n",
    "print(\"The probability that a passenger was either younger than 20 years old or older than 50:\")\n",
    "print(df[(df.Age < 20) | (df.Age > 50)][\"Age\"].count()/df[\"Age\"].count())\n"
   ]
  },
  {
   "cell_type": "markdown",
   "metadata": {},
   "source": [
    "**Knowing nothing else about the passengers aside from the survival rate of the population (see question above), if I choose 100 passengers at random from the passenger list, what’s the probability that exactly 42 passengers survive?**"
   ]
  },
  {
   "cell_type": "code",
   "execution_count": 124,
   "metadata": {},
   "outputs": [
    {
     "name": "stdout",
     "output_type": "stream",
     "text": [
      "The probability that exactly 42 random passengers out of 100 survive based on a survival probability of 0.38 is:\n",
      "0.061330411815167886\n"
     ]
    }
   ],
   "source": [
    "print(\"The probability that exactly 42 random passengers out of 100 survive based on a survival probability of 0.38 is:\")\n",
    "print(stats.binom.pmf(k = 42, n = 100, p = prob_surv))"
   ]
  },
  {
   "cell_type": "markdown",
   "metadata": {},
   "source": [
    "**What’s the probability that at least 42 of those 100 passengers survive?**"
   ]
  },
  {
   "cell_type": "code",
   "execution_count": 125,
   "metadata": {
    "scrolled": true
   },
   "outputs": [
    {
     "name": "stdout",
     "output_type": "stream",
     "text": [
      "The probability that at least 42 random passengers out of 100 survive based on a survival probability of 0.38 is:\n",
      "0.8019231697425527\n"
     ]
    }
   ],
   "source": [
    "print(\"The probability that at least 42 random passengers out of 100 survive based on a survival probability of 0.38 is:\")\n",
    "print(stats.binom.cdf(k = 42, n = 100, p = prob_surv))"
   ]
  },
  {
   "cell_type": "markdown",
   "metadata": {},
   "source": [
    "**Write a function that takes N random samples of 100 passengers, and returns the fraction of those samples where at least 42 passengers survive.**\n",
    "\n",
    "Choose a random seed and find approximately how many random samples you need to take before your fraction matches the probability you calculated (within Δp≈0.05Δp≈0.05).\n",
    "\n",
    "It may help to visualize the survival fraction vs the number of random samples. Answers will vary based on the seed."
   ]
  },
  {
   "cell_type": "code",
   "execution_count": null,
   "metadata": {},
   "outputs": [],
   "source": []
  },
  {
   "cell_type": "code",
   "execution_count": 164,
   "metadata": {},
   "outputs": [
    {
     "data": {
      "text/plain": [
       "<matplotlib.collections.LineCollection at 0x1a1da06588>"
      ]
     },
     "execution_count": 164,
     "metadata": {},
     "output_type": "execute_result"
    },
    {
     "data": {
      "image/png": "[encoded data removed]",
      "text/plain": [
       "<Figure size 648x648 with 1 Axes>"
      ]
     },
     "metadata": {},
     "output_type": "display_data"
    }
   ],
   "source": [
    "x_list = []\n",
    "y_list = []\n",
    "def ran_samples(limit, series):\n",
    "    for x in range(100, limit, 50):\n",
    "        tot = 0\n",
    "        for i in range(1, x):\n",
    "            sample = series.sample(n=100)\n",
    "            if sample.sum() <=42:\n",
    "                tot = tot + 1\n",
    "        frac_42 = tot/x\n",
    "        x_list.append(frac_42)\n",
    "        y_list.append(x)\n",
    "    return x_list, y_list  \n",
    "\n",
    "limit = 10000\n",
    "ran_samples(limit, df[\"Survived\"])\n",
    "plt.figure(figsize=(9,9))\n",
    "plt.scatter(x_list, y_list)\n",
    "plt.xlabel(\"Fraction of samples with 42 or less survivors\")\n",
    "plt.ylabel(\"Number of 100 person samples\")\n",
    "plt.vlines(0.8019231697425527, ymin = 0, ymax=limit)\n",
    "       "
   ]
  },
  {
   "cell_type": "markdown",
   "metadata": {},
   "source": [
    "Looks like the above ~3000 trials reliably produces a number that agrees with the cdf statistic of 0.8019 (which is marked with the vertical line on the scatterplot. "
   ]
  },
  {
   "cell_type": "markdown",
   "metadata": {},
   "source": [
    "**Is there a statistically significant difference between:**\n",
    "- The ages of male and female survivors?\n",
    "- The fares paid by passengers from Queenstown and the passengers from Cherbourg?\n",
    "\n",
    "**If so, at what level? If not, how do you know?**"
   ]
  },
  {
   "cell_type": "code",
   "execution_count": 184,
   "metadata": {},
   "outputs": [
    {
     "name": "stdout",
     "output_type": "stream",
     "text": [
      "Ttest_indResult(statistic=0.7908966227702466, pvalue=0.4301882393200738)\n"
     ]
    }
   ],
   "source": [
    "female_surv = df_cleanage[(df_cleanage.Sex == \"female\") & (df_cleanage.Survived == 1)][\"Age\"]\n",
    "male_surv = df_cleanage[(df_cleanage.Sex == \"male\") & (df_cleanage.Survived == 1)][\"Age\"]\n",
    "print(stats.ttest_ind(a=female_surv, b=male_surv, equal_var=False))"
   ]
  },
  {
   "cell_type": "markdown",
   "metadata": {},
   "source": [
    "### no statistically significant difference\n",
    "Because the pvalue is larger than 0.1, we must accept the null hypotheis that there is no significant difference\n",
    "between the ages of male and female survivors"
   ]
  },
  {
   "cell_type": "code",
   "execution_count": 201,
   "metadata": {},
   "outputs": [
    {
     "name": "stdout",
     "output_type": "stream",
     "text": [
      "Ttest_indResult(statistic=-6.995197104718681, pvalue=4.579203391956742e-11)\n"
     ]
    }
   ],
   "source": [
    "Queens = df[df.Embarked == \"Q\"][\"Fare\"]\n",
    "Cher = df[df.Embarked == \"C\"][\"Fare\"]\n",
    "print(stats.ttest_ind(a=Queens, b=Cher, equal_var=False))"
   ]
  },
  {
   "cell_type": "markdown",
   "metadata": {},
   "source": [
    "### statistically significant difference\n",
    "Because the pvalue is smaller than 0.01, we can reject the null hypotheis that there is no significant difference\n",
    "between the fares paid by passengers that departed from Queenstown and Cherbourg.  The small p-value is well\n",
    "below a significance threshold of 1%. "
   ]
  },
  {
   "cell_type": "markdown",
   "metadata": {},
   "source": [
    "**Accompany your p-values with histograms showing the distributions of both compared populations.**"
   ]
  },
  {
   "cell_type": "code",
   "execution_count": 210,
   "metadata": {},
   "outputs": [
    {
     "data": {
      "text/plain": [
       "Text(0.5,1,'Distribution of ages of male and female Titanic survivors')"
      ]
     },
     "execution_count": 210,
     "metadata": {},
     "output_type": "execute_result"
    },
    {
     "data": {
      "image/png": "[encoded data removed]",
      "text/plain": [
       "<Figure size 432x288 with 1 Axes>"
      ]
     },
     "metadata": {},
     "output_type": "display_data"
    }
   ],
   "source": [
    "bins = np.linspace(0, 100, 20)\n",
    "\n",
    "plt.hist(female_surv, bins, label = \"female\")\n",
    "plt.hist(male_surv, bins, label = \"male\")\n",
    "plt.legend()\n",
    "plt.xlabel(\"Age\")\n",
    "plt.ylabel(\"Number of people\")\n",
    "plt.title(\"Distribution of ages of male and female Titanic survivors\")"
   ]
  },
  {
   "cell_type": "code",
   "execution_count": 213,
   "metadata": {},
   "outputs": [
    {
     "data": {
      "text/plain": [
       "Text(0.5,1,'Distribution of the fares paid by Titantic passengeres that embarked at Queensberg and Cherbourg')"
      ]
     },
     "execution_count": 213,
     "metadata": {},
     "output_type": "execute_result"
    },
    {
     "data": {
      "image/png": "[encoded data removed]",
      "text/plain": [
       "<Figure size 1296x648 with 1 Axes>"
      ]
     },
     "metadata": {},
     "output_type": "display_data"
    }
   ],
   "source": [
    "bins = np.linspace(0, 520, 52)\n",
    "\n",
    "plt.figure(figsize=(18,9))\n",
    "plt.hist(Cher, bins, label = \"Cherbourg\")\n",
    "plt.hist(Queens, bins, label = \"Queensberg\")\n",
    "plt.legend()\n",
    "plt.xlabel(\"Fare price\")\n",
    "plt.ylabel(\"Number of people\")\n",
    "plt.title(\"Distribution of the fares paid by Titantic passengeres that embarked at Queensberg and Cherbourg\")"
   ]
  },
  {
   "cell_type": "markdown",
   "metadata": {},
   "source": [
    "**Did survivors pay more for their tickets than those that did not? If so, to what significance level?**"
   ]
  },
  {
   "cell_type": "code",
   "execution_count": 215,
   "metadata": {},
   "outputs": [
    {
     "name": "stdout",
     "output_type": "stream",
     "text": [
      "Ttest_indResult(statistic=6.839099259085254, pvalue=2.6993323503141236e-11)\n"
     ]
    }
   ],
   "source": [
    "surv_group = df.groupby(\"Survived\")\n",
    "surv = surv_group.get_group(1)[\"Fare\"]\n",
    "no_surv = surv_group.get_group(0)[\"Fare\"]\n",
    "print(stats.ttest_ind(a=surv, b=no_surv, equal_var=False))\n"
   ]
  },
  {
   "cell_type": "markdown",
   "metadata": {},
   "source": [
    "### statistically significant difference\n",
    "Because the pvalue is smaller than 0.01, we can reject the null hypotheis that there is no significant difference\n",
    "between the fares paid by passengers that departed from Queenstown and Cherbourg.  The small p-value is well\n",
    "below a significance threshold of 1%. "
   ]
  },
  {
   "cell_type": "markdown",
   "metadata": {},
   "source": [
    "**Did a given first-class passenger have less family members on board than a given third-class passenger? If so, to what significance level?**"
   ]
  },
  {
   "cell_type": "code",
   "execution_count": 221,
   "metadata": {},
   "outputs": [
    {
     "name": "stdout",
     "output_type": "stream",
     "text": [
      "Ttest_indResult(statistic=-2.0799075748873195, pvalue=0.03790738574852193)\n"
     ]
    }
   ],
   "source": [
    "class_group = df.groupby(\"Pclass\")\n",
    "class_1 = class_group.get_group(1)[\"family\"]\n",
    "class_3 = class_group.get_group(3)[\"family\"]\n",
    "print(stats.ttest_ind(a=class_1, b=class_3, equal_var=False))"
   ]
  },
  {
   "cell_type": "markdown",
   "metadata": {},
   "source": [
    "### statistically significant difference\n",
    "Because the pvalue is smaller than 0.05, we can reject the null hypotheis that there is no significant difference\n",
    "between the fares paid by passengers that departed from Queenstown and Cherbourg.  The p-value indicates a  \n",
    "significance threshold below 5%, but above 1%. "
   ]
  },
  {
   "cell_type": "code",
   "execution_count": null,
   "metadata": {},
   "outputs": [],
   "source": []
  }
 ],
 "metadata": {
  "anaconda-cloud": {},
  "kernelspec": {
   "display_name": "Python 3",
   "language": "python",
   "name": "python3"
  },
  "language_info": {
   "codemirror_mode": {
    "name": "ipython",
    "version": 3
   },
   "file_extension": ".py",
   "mimetype": "text/x-python",
   "name": "python",
   "nbconvert_exporter": "python",
   "pygments_lexer": "ipython3",
   "version": "3.6.5"
  }
 },
 "nbformat": 4,
 "nbformat_minor": 1
}
